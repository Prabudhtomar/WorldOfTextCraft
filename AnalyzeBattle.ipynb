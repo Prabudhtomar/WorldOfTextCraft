{
 "cells": [
  {
   "cell_type": "markdown",
   "metadata": {},
   "source": [
    "# Problem 2: Analyze battle\n",
    "\n",
    "In this exercise, you will be analyzing the battle script output\n",
    "that is created in `json` format by the `WorldOfTextCraft` executable. "
   ]
  },
  {
   "cell_type": "code",
   "execution_count": null,
   "metadata": {},
   "outputs": [],
   "source": [
    "import numpy as np\n",
    "from readbattle import readbattle\n",
    "import matplotlib.pyplot as plt"
   ]
  },
  {
   "cell_type": "markdown",
   "metadata": {},
   "source": [
    "### Get the data"
   ]
  },
  {
   "cell_type": "code",
   "execution_count": null,
   "metadata": {},
   "outputs": [],
   "source": [
    "npdata = readbattle(infile='problem2a.txt')"
   ]
  },
  {
   "cell_type": "markdown",
   "metadata": {},
   "source": [
    "### Make a plot of the attacks per turn"
   ]
  },
  {
   "cell_type": "code",
   "execution_count": null,
   "metadata": {},
   "outputs": [],
   "source": [
    "# Make plot of attacks. \n",
    "plt.plot(npdata[0,:,0],label=\"Arthas\")\n",
    "plt.plot(npdata[1,:,0],label=\"Fordring\")\n",
    "plt.plot(npdata[2,:,0],label=\"Thrall\")\n",
    "plt.plot(npdata[3,:,0],label=\"Mograine\")\n",
    "plt.legend()\n",
    "plt.xlabel(\"Turn\")\n",
    "plt.ylabel(\"Attack\")\n",
    "plt.show()"
   ]
  },
  {
   "cell_type": "markdown",
   "metadata": {},
   "source": [
    "## Part a\n",
    "\n",
    "Make plots of all action types for each character: `['Attacks', 'Defends', 'Heals', 'DamageReceived', 'HealingRecieved']`. (The `Attacks` are done in the last cell as an example). Label your axes and make a legend. "
   ]
  },
  {
   "cell_type": "code",
   "execution_count": null,
   "metadata": {},
   "outputs": [],
   "source": [
    "## Plot here"
   ]
  },
  {
   "cell_type": "code",
   "execution_count": null,
   "metadata": {},
   "outputs": [],
   "source": [
    "## Plot here"
   ]
  },
  {
   "cell_type": "code",
   "execution_count": null,
   "metadata": {},
   "outputs": [],
   "source": [
    "## Plot here"
   ]
  },
  {
   "cell_type": "code",
   "execution_count": null,
   "metadata": {},
   "outputs": [],
   "source": [
    "## Plot here"
   ]
  },
  {
   "cell_type": "markdown",
   "metadata": {},
   "source": [
    "## Part b\n",
    "\n",
    "Using the [matplotlib hist](https://matplotlib.org/3.1.1/api/_as_gen/matplotlib.pyplot.hist.html) function, create a single plot showing histograms of the `Attacks` for each character. Label your axes and make a legend. "
   ]
  },
  {
   "cell_type": "code",
   "execution_count": null,
   "metadata": {},
   "outputs": [],
   "source": [
    "## Plot here"
   ]
  },
  {
   "cell_type": "markdown",
   "metadata": {},
   "source": [
    "## Part c\n",
    "\n",
    "Repeat part b, but this time plot the `Attacks` only for turns where the character was healed. "
   ]
  },
  {
   "cell_type": "code",
   "execution_count": null,
   "metadata": {},
   "outputs": [],
   "source": [
    "## Plot here"
   ]
  }
 ],
 "metadata": {
  "kernelspec": {
   "display_name": "Python 3",
   "language": "python",
   "name": "python3"
  },
  "language_info": {
   "codemirror_mode": {
    "name": "ipython",
    "version": 3
   },
   "file_extension": ".py",
   "mimetype": "text/x-python",
   "name": "python",
   "nbconvert_exporter": "python",
   "pygments_lexer": "ipython3",
   "version": "3.7.4rc2"
  }
 },
 "nbformat": 4,
 "nbformat_minor": 2
}
